{
 "cells": [
  {
   "cell_type": "code",
   "execution_count": null,
   "id": "302ecc21-eb42-42c3-981f-4c1c389be5c0",
   "metadata": {},
   "outputs": [],
   "source": [
    "git add Week1_Assignment.ipynb"
   ]
  }
 ],
 "metadata": {
  "kernelspec": {
   "display_name": "Python 3 (ipykernel)",
   "language": "python",
   "name": "python3"
  },
  "language_info": {
   "codemirror_mode": {
    "name": "ipython",
    "version": 3
   },
   "file_extension": ".py",
   "mimetype": "text/x-python",
   "name": "python",
   "nbconvert_exporter": "python",
   "pygments_lexer": "ipython3",
   "version": "3.12.5"
  }
 },
 "nbformat": 4,
 "nbformat_minor": 5
}
