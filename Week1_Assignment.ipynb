{
 "cells": [
  {
   "cell_type": "code",
   "execution_count": 1,
   "id": "302ecc21-eb42-42c3-981f-4c1c389be5c0",
   "metadata": {},
   "outputs": [
    {
     "name": "stdout",
     "output_type": "stream",
     "text": [
      "Pauli Matrix σ_x:\n",
      "[[0 1]\n",
      " [1 0]]\n",
      "\n",
      "Pauli Matrix σ_y:\n",
      "[[ 0.+0.j -0.-1.j]\n",
      " [ 0.+1.j  0.+0.j]]\n",
      "\n",
      "Pauli Matrix σ_z:\n",
      "[[ 1  0]\n",
      " [ 0 -1]]\n"
     ]
    }
   ],
   "source": [
    "import numpy as np\n",
    "\n",
    "sigma_x = np.array([[0, 1], \n",
    "                    [1, 0]])\n",
    "\n",
    "sigma_y = np.array([[0, -1j], \n",
    "                    [1j, 0]])\n",
    "\n",
    "sigma_z = np.array([[1, 0], \n",
    "                    [0, -1]])\n",
    "\n",
    "print(\"Pauli Matrix σ_x:\")\n",
    "print(sigma_x)\n",
    "print(\"\\nPauli Matrix σ_y:\")\n",
    "print(sigma_y)\n",
    "print(\"\\nPauli Matrix σ_z:\")\n",
    "print(sigma_z)\n"
   ]
  },
  {
   "cell_type": "code",
   "execution_count": 1,
   "id": "1b621119-3b3b-4844-aff4-bd4d4f06fc4d",
   "metadata": {},
   "outputs": [
    {
     "name": "stdout",
     "output_type": "stream",
     "text": [
      "The norm of the vector c is: (3.872983346207417+0j)\n",
      "The norm of the vector d is: (2.8284271247461903+0j)\n"
     ]
    }
   ],
   "source": [
    "import numpy as np\n",
    "\n",
    "c = np.array([1 + 1j, -2j, 3])\n",
    "\n",
    "c_conjugate = np.conjugate(c)\n",
    "dot_product_c = np.dot(c_conjugate, c)\n",
    "norm_c = np.sqrt(dot_product_c)\n",
    "print(\"The norm of the vector c is:\", norm_c)\n",
    "\n",
    "d = np.array([2 - 1j, 1, 1j - 1])\n",
    "\n",
    "d_conjugate = np.conjugate(d)\n",
    "dot_product_d = np.dot(d_conjugate, d)\n",
    "norm_d = np.sqrt(dot_product_d)\n",
    "print(\"The norm of the vector d is:\", norm_d)\n"
   ]
  },
  {
   "cell_type": "code",
   "execution_count": 1,
   "id": "a2a192a5-d0c3-420b-9d59-e0e9c63666d3",
   "metadata": {},
   "outputs": [
    {
     "name": "stdout",
     "output_type": "stream",
     "text": [
      "Eigenvalues:\n",
      "[1.-2.52702567e-16j 4.-1.91386643e-16j]\n",
      "\n",
      "Eigenvectors:\n",
      "[[ 0.81649658+0.j          0.40824829-0.40824829j]\n",
      " [-0.40824829-0.40824829j  0.81649658+0.j        ]]\n",
      "\n",
      "Diagonal matrix D:\n",
      "[[1.-2.52702567e-16j 0.+0.00000000e+00j]\n",
      " [0.+0.00000000e+00j 4.-1.91386643e-16j]]\n",
      "\n",
      "Reconstructed matrix H:\n",
      "[[2.+3.33066907e-16j 1.-1.00000000e+00j]\n",
      " [1.+1.00000000e+00j 3.-8.04911693e-16j]]\n"
     ]
    }
   ],
   "source": [
    "import numpy as np\n",
    "\n",
    "H = np.array([[2, 1 - 1j],\n",
    "              [1 + 1j, 3]])\n",
    "\n",
    "eigenvalues, eigenvectors = np.linalg.eig(H)\n",
    "\n",
    "print(\"Eigenvalues:\")\n",
    "print(eigenvalues)\n",
    "print(\"\\nEigenvectors:\")\n",
    "print(eigenvectors)\n",
    "\n",
    "D = np.diag(eigenvalues)\n",
    "\n",
    "P = eigenvectors\n",
    "\n",
    "P_inv = np.linalg.inv(P)\n",
    "\n",
    "H_reconstructed = np.dot(P, np.dot(D, P_inv))\n",
    "\n",
    "print(\"\\nDiagonal matrix D:\")\n",
    "print(D)\n",
    "\n",
    "print(\"\\nReconstructed matrix H:\")\n",
    "print(H_reconstructed)"
   ]
  },
  {
   "cell_type": "code",
   "execution_count": null,
   "id": "dd5b6268-d8be-4c66-9a8b-c1af3a87a3be",
   "metadata": {},
   "outputs": [],
   "source": []
  }
 ],
 "metadata": {
  "kernelspec": {
   "display_name": "Python 3 (ipykernel)",
   "language": "python",
   "name": "python3"
  },
  "language_info": {
   "codemirror_mode": {
    "name": "ipython",
    "version": 3
   },
   "file_extension": ".py",
   "mimetype": "text/x-python",
   "name": "python",
   "nbconvert_exporter": "python",
   "pygments_lexer": "ipython3",
   "version": "3.12.5"
  }
 },
 "nbformat": 4,
 "nbformat_minor": 5
}
